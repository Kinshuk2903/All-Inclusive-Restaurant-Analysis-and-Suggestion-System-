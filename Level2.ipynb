{
 "cells": [
  {
   "cell_type": "code",
   "execution_count": 3,
   "metadata": {},
   "outputs": [],
   "source": [
    "import pandas as pd\n",
    "from sklearn.model_selection import train_test_split\n",
    "from sklearn.linear_model import LinearRegression\n",
    "from sklearn.tree import DecisionTreeRegressor\n",
    "from sklearn.metrics import mean_squared_error, r2_score\n",
    "from sklearn.preprocessing import LabelEncoder\n",
    "from sklearn.neighbors import NearestNeighbors"
   ]
  },
  {
   "cell_type": "code",
   "execution_count": null,
   "metadata": {},
   "outputs": [
    {
     "name": "stderr",
     "output_type": "stream",
     "text": [
      "C:\\Users\\KIIT\\AppData\\Local\\Temp\\ipykernel_4956\\1323167904.py:19: FutureWarning: A value is trying to be set on a copy of a DataFrame or Series through chained assignment using an inplace method.\n",
      "The behavior will change in pandas 3.0. This inplace method will never work because the intermediate object on which we are setting values always behaves as a copy.\n",
      "\n",
      "For example, when doing 'df[col].method(value, inplace=True)', try using 'df.method({col: value}, inplace=True)' or df[col] = df[col].method(value) instead, to perform the operation inplace on the original object.\n",
      "\n",
      "\n",
      "  df[column].fillna(df[column].mean(), inplace=True)\n",
      "C:\\Users\\KIIT\\AppData\\Local\\Temp\\ipykernel_4956\\1323167904.py:17: FutureWarning: A value is trying to be set on a copy of a DataFrame or Series through chained assignment using an inplace method.\n",
      "The behavior will change in pandas 3.0. This inplace method will never work because the intermediate object on which we are setting values always behaves as a copy.\n",
      "\n",
      "For example, when doing 'df[col].method(value, inplace=True)', try using 'df.method({col: value}, inplace=True)' or df[col] = df[col].method(value) instead, to perform the operation inplace on the original object.\n",
      "\n",
      "\n",
      "  df[column].fillna(df[column].mode()[0], inplace=True)\n"
     ]
    },
    {
     "name": "stdout",
     "output_type": "stream",
     "text": [
      "Recommended restaurants:\n",
      "Restaurant Name         1922.0\n",
      "Cuisines                1306.0\n",
      "Average Cost for two     500.0\n",
      "Locality                 554.0\n",
      "Name: 4787, dtype: float64\n",
      "Restaurant Name         5461.0\n",
      "Cuisines                1306.0\n",
      "Average Cost for two     500.0\n",
      "Locality                 554.0\n",
      "Name: 4767, dtype: float64\n",
      "Restaurant Name         1013.0\n",
      "Cuisines                1329.0\n",
      "Average Cost for two     500.0\n",
      "Locality                 554.0\n",
      "Name: 4741, dtype: float64\n",
      "Restaurant Name         7042.0\n",
      "Cuisines                1520.0\n",
      "Average Cost for two     600.0\n",
      "Locality                 640.0\n",
      "Name: 5157, dtype: float64\n",
      "Restaurant Name         6889.0\n",
      "Cuisines                1520.0\n",
      "Average Cost for two     600.0\n",
      "Locality                 640.0\n",
      "Name: 5156, dtype: float64\n"
     ]
    },
    {
     "name": "stderr",
     "output_type": "stream",
     "text": [
      "c:\\Users\\KIIT\\AppData\\Local\\Programs\\Python\\Python312\\Lib\\site-packages\\sklearn\\utils\\validation.py:2739: UserWarning: X does not have valid feature names, but NearestNeighbors was fitted with feature names\n",
      "  warnings.warn(\n"
     ]
    }
   ],
   "source": [
    "df = pd.read_csv(\"C:\\\\Users\\\\KIIT\\\\Desktop\\\\Cognifyz Technology\\\\Dataset .csv\")\n",
    "\n",
    "for column in df.columns:\n",
    "  if df[column].dtype == 'object':\n",
    "    df[column].fillna(df[column].mode()[0], inplace=True)\n",
    "  else:\n",
    "    df[column].fillna(df[column].mean(), inplace=True)\n",
    "\n",
    "le = LabelEncoder()\n",
    "\n",
    "all_cuisines = df['Cuisines'].unique().tolist()\n",
    "all_localities = df['Locality'].unique().tolist()\n",
    "\n",
    "cuisine_preference = input(\"Enter your preferred cuisine: \")\n",
    "locality_preference = input(\"Enter your preferred locality: \")\n",
    "price_preference = float(input(\"Enter your preferred average cost for two: \"))\n",
    "\n",
    "all_cuisines.extend([cuisine_preference])\n",
    "all_localities.extend([locality_preference])\n",
    "\n",
    "le_cuisine = LabelEncoder()\n",
    "le_cuisine.fit(all_cuisines)\n",
    "le_locality = LabelEncoder()\n",
    "le_locality.fit(all_localities)\n",
    "\n",
    "for column in df.columns:\n",
    "  if df[column].dtype == 'object':\n",
    "    if column == 'Cuisines':\n",
    "      df[column] = le_cuisine.transform(df[column])\n",
    "    elif column == 'Locality':\n",
    "      df[column] = le_locality.transform(df[column])\n",
    "    else:\n",
    "      df[column] = le.fit_transform(df[column])\n",
    "\n",
    "\n",
    "features = ['Cuisines', 'Average Cost for two', 'Locality']\n",
    "\n",
    "restaurant_features = df[features]\n",
    "\n",
    "model = NearestNeighbors(n_neighbors=5, algorithm='brute', metric='cosine')\n",
    "model.fit(restaurant_features)\n",
    "\n",
    "user_preferences = {'Cuisines': le_cuisine.transform([cuisine_preference])[0],\n",
    "                    'Average Cost for two': price_preference,\n",
    "                    'Locality': le_locality.transform([locality_preference])[0]}\n",
    "\n",
    "distances, indices = model.kneighbors([list(user_preferences.values())])\n",
    "\n",
    "print(\"Recommended restaurants:\")\n",
    "for index in indices[0]:\n",
    "    print(df.loc[index, ['Restaurant Name', 'Cuisines', 'Average Cost for two', 'Locality']])\n",
    "\n",
    "'''Sample used is :\n",
    "cuisine = 'North Indian'\n",
    "locality = 'Koramangala'\n",
    "Average cost = '500' \n",
    "'''"
   ]
  },
  {
   "cell_type": "code",
   "execution_count": null,
   "metadata": {},
   "outputs": [],
   "source": []
  }
 ],
 "metadata": {
  "kernelspec": {
   "display_name": "Python 3",
   "language": "python",
   "name": "python3"
  },
  "language_info": {
   "codemirror_mode": {
    "name": "ipython",
    "version": 3
   },
   "file_extension": ".py",
   "mimetype": "text/x-python",
   "name": "python",
   "nbconvert_exporter": "python",
   "pygments_lexer": "ipython3",
   "version": "3.12.4"
  }
 },
 "nbformat": 4,
 "nbformat_minor": 2
}
