{
 "cells": [
  {
   "cell_type": "code",
   "execution_count": 2,
   "metadata": {},
   "outputs": [],
   "source": [
    "import pandas as pd\n",
    "from sklearn.model_selection import train_test_split\n",
    "from sklearn.linear_model import LinearRegression\n",
    "from sklearn.tree import DecisionTreeRegressor\n",
    "from sklearn.metrics import mean_squared_error, r2_score\n",
    "from sklearn.preprocessing import LabelEncoder"
   ]
  },
  {
   "cell_type": "code",
   "execution_count": 3,
   "metadata": {},
   "outputs": [
    {
     "name": "stderr",
     "output_type": "stream",
     "text": [
      "<>:1: SyntaxWarning: invalid escape sequence '\\D'\n",
      "<>:1: SyntaxWarning: invalid escape sequence '\\D'\n",
      "C:\\Users\\KIIT\\AppData\\Local\\Temp\\ipykernel_26612\\3985176872.py:1: SyntaxWarning: invalid escape sequence '\\D'\n",
      "  df = pd.read_csv(\"C:\\\\Users\\\\KIIT\\\\Desktop\\\\Cognifyz Technology\\Dataset .csv\")\n",
      "C:\\Users\\KIIT\\AppData\\Local\\Temp\\ipykernel_26612\\3985176872.py:7: FutureWarning: A value is trying to be set on a copy of a DataFrame or Series through chained assignment using an inplace method.\n",
      "The behavior will change in pandas 3.0. This inplace method will never work because the intermediate object on which we are setting values always behaves as a copy.\n",
      "\n",
      "For example, when doing 'df[col].method(value, inplace=True)', try using 'df.method({col: value}, inplace=True)' or df[col] = df[col].method(value) instead, to perform the operation inplace on the original object.\n",
      "\n",
      "\n",
      "  df[column].fillna(df[column].mean(), inplace=True)\n",
      "C:\\Users\\KIIT\\AppData\\Local\\Temp\\ipykernel_26612\\3985176872.py:5: FutureWarning: A value is trying to be set on a copy of a DataFrame or Series through chained assignment using an inplace method.\n",
      "The behavior will change in pandas 3.0. This inplace method will never work because the intermediate object on which we are setting values always behaves as a copy.\n",
      "\n",
      "For example, when doing 'df[col].method(value, inplace=True)', try using 'df.method({col: value}, inplace=True)' or df[col] = df[col].method(value) instead, to perform the operation inplace on the original object.\n",
      "\n",
      "\n",
      "  df[column].fillna(df[column].mode()[0], inplace=True)\n"
     ]
    },
    {
     "name": "stdout",
     "output_type": "stream",
     "text": [
      "Mean Squared Error: 0.05713762428048141\n",
      "R-squared: 0.9748967977703421\n",
      "                 feature  importance\n",
      "19                 Votes    0.898992\n",
      "17          Rating color    0.084567\n",
      "18           Rating text    0.004821\n",
      "0          Restaurant ID    0.002295\n",
      "7              Longitude    0.001440\n",
      "4                Address    0.001407\n",
      "1        Restaurant Name    0.001370\n",
      "9               Cuisines    0.001247\n",
      "8               Latitude    0.001035\n",
      "10  Average Cost for two    0.000917\n",
      "5               Locality    0.000642\n",
      "6       Locality Verbose    0.000526\n",
      "13   Has Online delivery    0.000268\n",
      "3                   City    0.000210\n",
      "16           Price range    0.000164\n",
      "12     Has Table booking    0.000077\n",
      "14     Is delivering now    0.000013\n",
      "11              Currency    0.000005\n",
      "2           Country Code    0.000004\n",
      "15  Switch to order menu    0.000000\n"
     ]
    }
   ],
   "source": [
    "df = pd.read_csv(\"C:\\\\Users\\\\KIIT\\\\Desktop\\\\Cognifyz Technology\\Dataset .csv\")\n",
    "\n",
    "for column in df.columns:\n",
    "  if df[column].dtype == 'object':\n",
    "    df[column].fillna(df[column].mode()[0], inplace=True)\n",
    "  else:\n",
    "    df[column].fillna(df[column].mean(), inplace=True)\n",
    "\n",
    "le = LabelEncoder()\n",
    "for column in df.columns:\n",
    "  if df[column].dtype == 'object':\n",
    "    df[column] = le.fit_transform(df[column])\n",
    "\n",
    "X = df.drop('Aggregate rating', axis=1)\n",
    "y = df['Aggregate rating']\n",
    "\n",
    "X_train, X_test, y_train, y_test = train_test_split(X, y, test_size=0.2, random_state=42)\n",
    "\n",
    "model = DecisionTreeRegressor()\n",
    "\n",
    "model.fit(X_train, y_train)\n",
    "\n",
    "y_pred = model.predict(X_test)\n",
    "\n",
    "mse = mean_squared_error(y_test, y_pred)\n",
    "r2 = r2_score(y_test, y_pred)\n",
    "\n",
    "print(\"Mean Squared Error:\", mse)\n",
    "print(\"R-squared:\", r2)\n",
    "\n",
    "if isinstance(model, DecisionTreeRegressor):\n",
    "  feature_importance = model.feature_importances_\n",
    "  feature_importance_df = pd.DataFrame({'feature': X.columns, 'importance': feature_importance})\n",
    "  print(feature_importance_df.sort_values('importance', ascending=False))\n"
   ]
  }
 ],
 "metadata": {
  "kernelspec": {
   "display_name": "Python 3",
   "language": "python",
   "name": "python3"
  },
  "language_info": {
   "codemirror_mode": {
    "name": "ipython",
    "version": 3
   },
   "file_extension": ".py",
   "mimetype": "text/x-python",
   "name": "python",
   "nbconvert_exporter": "python",
   "pygments_lexer": "ipython3",
   "version": "3.12.4"
  }
 },
 "nbformat": 4,
 "nbformat_minor": 2
}
