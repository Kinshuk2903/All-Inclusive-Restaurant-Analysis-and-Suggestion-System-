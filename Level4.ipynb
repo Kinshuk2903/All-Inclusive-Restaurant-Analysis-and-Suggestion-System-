{
 "cells": [
  {
   "cell_type": "code",
   "execution_count": 3,
   "metadata": {},
   "outputs": [],
   "source": [
    "import pandas as pd\n",
    "import folium"
   ]
  },
  {
   "cell_type": "code",
   "execution_count": 5,
   "metadata": {},
   "outputs": [
    {
     "name": "stdout",
     "output_type": "stream",
     "text": [
      "Restaurant Concentration by Locality:\n",
      " Locality\n",
      "Connaught Place      122\n",
      "Rajouri Garden        99\n",
      "Shahdara              87\n",
      "Defence Colony        86\n",
      "Malviya Nagar         85\n",
      "                    ... \n",
      "Al Muntazah            1\n",
      "Al Mushrif             1\n",
      "Al Nasr                1\n",
      "Al Nud                 1\n",
      "Al Qasba, Al Khan      1\n",
      "Name: Restaurant Name, Length: 1208, dtype: int64\n",
      "\n",
      "Average Rating by Locality:\n",
      " Locality\n",
      " ILD Trade Centre Mall, Sohna Road     3.050000\n",
      "12th Square Building, Banjara Hills    4.300000\n",
      "A Hotel, Gurdev Nagar                  3.600000\n",
      "ARSS Mall, Paschim Vihar               3.100000\n",
      "Aaya Nagar                             0.000000\n",
      "                                         ...   \n",
      "ibis New Delhi, Aerocity               1.550000\n",
      "�ayyolu                                4.300000\n",
      "�guas Claras                           3.666667\n",
      "�ukurambar                             3.400000\n",
      "��mitk�_y                              4.200000\n",
      "Name: Aggregate rating, Length: 1208, dtype: float64\n",
      "\n",
      "Average Price Range by Locality:\n",
      " Locality\n",
      " ILD Trade Centre Mall, Sohna Road      575.000000\n",
      "12th Square Building, Banjara Hills    1500.000000\n",
      "A Hotel, Gurdev Nagar                   800.000000\n",
      "ARSS Mall, Paschim Vihar                500.000000\n",
      "Aaya Nagar                              500.000000\n",
      "                                          ...     \n",
      "ibis New Delhi, Aerocity                900.000000\n",
      "�ayyolu                                  35.000000\n",
      "�guas Claras                             86.666667\n",
      "�ukurambar                               50.000000\n",
      "��mitk�_y                                70.000000\n",
      "Name: Average Cost for two, Length: 1208, dtype: float64\n",
      "\n",
      "Cuisines by Locality:\n",
      " Locality                             Cuisines                                              \n",
      " ILD Trade Centre Mall, Sohna Road   Cafe, Beverages                                           1\n",
      "                                     North Indian, Mughlai                                     1\n",
      "12th Square Building, Banjara Hills  Mughlai, North Indian, Chinese                            1\n",
      "A Hotel, Gurdev Nagar                North Indian, Chinese, Fast Food                          1\n",
      "ARSS Mall, Paschim Vihar             North Indian, South Indian, Chinese, Mithai, Fast Food    1\n",
      "                                                                                              ..\n",
      "�guas Claras                         Bar Food, Brazilian                                       1\n",
      "                                     Mexican, Grill                                            1\n",
      "                                     Pizza                                                     1\n",
      "�ukurambar                           Patisserie, Coffee and Tea                                1\n",
      "��mitk�_y                            Kebab, Desserts, Turkish Pizza                            1\n",
      "Name: Restaurant Name, Length: 7058, dtype: int64\n"
     ]
    }
   ],
   "source": [
    "df = pd.read_csv(\"C:\\\\Users\\\\KIIT\\\\Desktop\\\\Cognifyz Technology\\\\Dataset .csv\")\n",
    "\n",
    "map_center = [df['Latitude'].mean(), df['Longitude'].mean()]\n",
    "my_map = folium.Map(location=map_center, zoom_start=10)  # Adjust zoom_start as needed\n",
    "\n",
    "for index, row in df.iterrows():\n",
    "    folium.Marker([row['Latitude'], row['Longitude']],\n",
    "                  popup=row['Restaurant Name']).add_to(my_map)\n",
    "\n",
    "my_map\n",
    "\n",
    "restaurant_by_locality = df.groupby('Locality')['Restaurant Name'].count().sort_values(ascending=False)\n",
    "print(\"Restaurant Concentration by Locality:\\n\", restaurant_by_locality)\n",
    "\n",
    "average_rating_by_locality = df.groupby('Locality')['Aggregate rating'].mean()\n",
    "print(\"\\nAverage Rating by Locality:\\n\", average_rating_by_locality)\n",
    "\n",
    "average_price_by_locality = df.groupby('Locality')['Average Cost for two'].mean()\n",
    "print(\"\\nAverage Price Range by Locality:\\n\", average_price_by_locality)\n",
    "\n",
    "cuisine_counts_by_locality = df.groupby(['Locality', 'Cuisines'])['Restaurant Name'].count()\n",
    "print(\"\\nCuisines by Locality:\\n\", cuisine_counts_by_locality)"
   ]
  }
 ],
 "metadata": {
  "kernelspec": {
   "display_name": "Python 3",
   "language": "python",
   "name": "python3"
  },
  "language_info": {
   "codemirror_mode": {
    "name": "ipython",
    "version": 3
   },
   "file_extension": ".py",
   "mimetype": "text/x-python",
   "name": "python",
   "nbconvert_exporter": "python",
   "pygments_lexer": "ipython3",
   "version": "3.12.4"
  }
 },
 "nbformat": 4,
 "nbformat_minor": 2
}
